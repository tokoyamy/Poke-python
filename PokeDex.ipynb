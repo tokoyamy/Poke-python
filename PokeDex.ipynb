{
  "nbformat": 4,
  "nbformat_minor": 0,
  "metadata": {
    "colab": {
      "name": "PokeDex.ipynb",
      "provenance": [],
      "collapsed_sections": [],
      "authorship_tag": "ABX9TyNcisiOjGO1QD1LrEXrz65y",
      "include_colab_link": true
    },
    "kernelspec": {
      "name": "python3",
      "display_name": "Python 3"
    },
    "language_info": {
      "name": "python"
    }
  },
  "cells": [
    {
      "cell_type": "markdown",
      "metadata": {
        "id": "view-in-github",
        "colab_type": "text"
      },
      "source": [
        "<a href=\"https://colab.research.google.com/github/tokoyamy/Poke-python/blob/main/PokeDex.ipynb\" target=\"_parent\"><img src=\"https://colab.research.google.com/assets/colab-badge.svg\" alt=\"Open In Colab\"/></a>"
      ]
    },
    {
      "cell_type": "code",
      "execution_count": null,
      "metadata": {
        "id": "oKq-GxXswHv4"
      },
      "outputs": [],
      "source": [
        "pip install requests\n"
      ]
    },
    {
      "cell_type": "code",
      "source": [
        "pip install simplejson"
      ],
      "metadata": {
        "id": "Bzdb5IAe8XE3"
      },
      "execution_count": null,
      "outputs": []
    },
    {
      "cell_type": "code",
      "source": [
        "import requests\n",
        "import json\n",
        "from json.decoder import JSONDecodeError\n",
        "import simplejson"
      ],
      "metadata": {
        "id": "EwfrwH4mwMOl"
      },
      "execution_count": null,
      "outputs": []
    },
    {
      "cell_type": "code",
      "source": [
        "poke = input((\"Qual pokemon deseja consultar? \\n\"))\n",
        "\n",
        "url = f\"https://pokeapi.co/api/v2/pokemon/{poke.lower()}\"\n",
        "response = requests.get(url)\n",
        "\n",
        "try:\n",
        "  retorno = response.json()\n",
        "  hab0 = (retorno['abilities'][0]['ability']['name'])\n",
        "  hab1 = (retorno['abilities'][1]['ability']['name'])\n",
        "  tamanho = (retorno['height'])\n",
        "  peso = (retorno['weight'])\n",
        "  type = (retorno['types'][0]['type']['name'])\n",
        "except (JSONDecodeError,simplejson.errors.JSONDecodeError):\n",
        "  print(\"Verifique se o nome do pokemon informado é valido!!\")\n",
        "else:\n",
        "  print(poke, f\",suas habilidades são {hab0} e {hab1}\\nTamanho:{tamanho} \\npeso:{peso}\\nTipo:{type}\")"
      ],
      "metadata": {
        "id": "1HWftvjxwNkT"
      },
      "execution_count": null,
      "outputs": []
    }
  ]
}